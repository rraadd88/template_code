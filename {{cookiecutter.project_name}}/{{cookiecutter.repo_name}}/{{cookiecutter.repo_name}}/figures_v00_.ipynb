{
 "cells": [
  {
   "cell_type": "code",
   "execution_count": null,
   "metadata": {
    "hideCode": false,
    "hidePrompt": false,
    "scrolled": true
   },
   "outputs": [],
   "source": [
    "# import\n",
    "from rohan.global_imports import *\n",
    "from rohan.dandage.figs.figure import *\n",
    "%run plots.py"
   ]
  },
  {
   "cell_type": "markdown",
   "metadata": {
    "hideCode": false,
    "hidePrompt": false
   },
   "source": [
    "## Figure 1"
   ]
  },
  {
   "cell_type": "code",
   "execution_count": null,
   "metadata": {
    "hideCode": false,
    "hidePrompt": false,
    "scrolled": false
   },
   "outputs": [],
   "source": [
    "from rohan.dandage.plot.colors import reset_legend_colors\n",
    "funs=[\n",
    "## panel\n",
    "plot1,\n",
    "## panel\n",
    "plot2,\n",
    "## panel\n",
    "plot3,\n",
    "## panel\n",
    "plot4,\n",
    "]\n",
    "\n",
    "fig,axes=plt.subplots(ncols=1,nrows=4,figsize=[6,9],sharex=True)\n",
    "for fun,ax in zip(funs,np.ravel(axes)):\n",
    "    ax=fun(ax=ax)\n",
    "    leg=ax.legend(bbox_to_anchor=[1,1])\n",
    "    leg=reset_legend_colors(leg)\n",
    "    leg=ax.legend(bbox_to_anchor=[1,1])\n",
    "labelsubplots(axes=np.ravel(axes),yoff=-0.1,xoff=-0.1)\n",
    "plt.tight_layout()\n",
    "savefig(f'figs/figure 1')"
   ]
  },
  {
   "cell_type": "markdown",
   "metadata": {
    "hideCode": false,
    "hidePrompt": false
   },
   "source": [
    "## Figure S1"
   ]
  },
  {
   "cell_type": "code",
   "execution_count": null,
   "metadata": {
    "hideCode": false,
    "hidePrompt": false,
    "scrolled": false
   },
   "outputs": [],
   "source": [
    "## figure s1\n",
    "plt.figure(figsize=[4.75,4])\n",
    "ax=fun()\n",
    "savefig(\"figs/figure s1\")"
   ]
  },
  {
   "cell_type": "markdown",
   "metadata": {},
   "source": [
    "## Figure S4"
   ]
  },
  {
   "cell_type": "code",
   "execution_count": null,
   "metadata": {},
   "outputs": [],
   "source": [
    "fig,axes= plt.subplots(ncols=4,nrows=4,figsize=[13,13])\n",
    "axes=list(np.ravel(axes))\n",
    "funs=[\n",
    "    None,\n",
    "    fun,\n",
    "    fun,\n",
    "    fun,\n",
    "    fun,\n",
    "    fun,\n",
    "    fun,\n",
    "    fun,\n",
    "    None,\n",
    "    fun,\n",
    "    fun,\n",
    "    fun,\n",
    "    fun,\n",
    "    fun,\n",
    "    fun,\n",
    "    fun,      \n",
    "     ]\n",
    "for f,ax in zip(funs,axes):\n",
    "    if not f is None:\n",
    "        ax=f(ax=ax)\n",
    "        ax.grid(True)\n",
    "    else:\n",
    "        ax.axis('off')\n",
    "labelsubplots(axes=axes[1:8]+axes[9:16])\n",
    "plt.subplots_adjust(left=None, bottom=None, right=None, top=None, wspace=0.4, hspace=0.4)\n",
    "savefig('figs/Figure S4',tight_layout=False)     "
   ]
  }
 ],
 "metadata": {
  "hide_code_all_hidden": false,
  "kernelspec": {
   "display_name": "human_paralogs",
   "language": "python",
   "name": "human_paralogs"
  },
  "language_info": {
   "codemirror_mode": {
    "name": "ipython",
    "version": 3
   },
   "file_extension": ".py",
   "mimetype": "text/x-python",
   "name": "python",
   "nbconvert_exporter": "python",
   "pygments_lexer": "ipython3",
   "version": "3.6.5"
  }
 },
 "nbformat": 4,
 "nbformat_minor": 2
}
